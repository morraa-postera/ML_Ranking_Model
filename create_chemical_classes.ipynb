{
 "cells": [
  {
   "cell_type": "markdown",
   "metadata": {},
   "source": [
    "# This is the first pre-processing file that takes Moonshot data and creates distinct datasets for Acrylamide, Non-Covalent and PLPro series"
   ]
  },
  {
   "cell_type": "code",
   "execution_count": null,
   "metadata": {},
   "outputs": [],
   "source": [
    "import pandas as pd\n",
    "import numpy as np\n",
    "import pdb"
   ]
  },
  {
   "cell_type": "markdown",
   "metadata": {},
   "source": [
    "### PLPro Preprocessing"
   ]
  },
  {
   "cell_type": "code",
   "execution_count": null,
   "metadata": {},
   "outputs": [],
   "source": [
    "PL_1 = pd.read_csv('PLpro_data_1.csv')[['SMILES_acid', 'PLpro Protease Assay Dose-Response: IC50 (uM) [Target: Plpro, JIRA: 11980, Readout: FI, Iincubation time: 120]']]\n",
    "PL_2 = pd.read_csv('PLpro_data_2.csv')[['SMILES_acid', 'PLpro Protease Assay Dose-Response: IC50 (uM)']]\n",
    "PL_1 = PL_1.rename(columns = {'SMILES_acid' : 'SMILES', 'PLpro Protease Assay Dose-Response: IC50 (uM) [Target: Plpro, JIRA: 11980, Readout: FI, Iincubation time: 120]' : 'IC50'})\n",
    "PL_2 = PL_2.rename(columns = {'SMILES_acid' : 'SMILES', 'PLpro Protease Assay Dose-Response: IC50 (uM)' : 'IC50'})"
   ]
  },
  {
   "cell_type": "code",
   "execution_count": null,
   "metadata": {},
   "outputs": [],
   "source": [
    "def IC50(row):\n",
    "    if row['IC50'] is np.nan:\n",
    "        return np.inf\n",
    "    elif '>' in str(row['IC50']):\n",
    "        return np.inf\n",
    "    else:\n",
    "        return float(row['IC50'])"
   ]
  },
  {
   "cell_type": "code",
   "execution_count": null,
   "metadata": {},
   "outputs": [],
   "source": [
    "PL_1['IC50'] = [ IC50(row) for index, row in PL_1.iterrows()]\n",
    "PL_2['IC50'] = [ IC50(row) for index, row in PL_2.iterrows()]\n",
    "\n",
    "PL_1['activity'], PL_2['activity'] = PL_1.apply(lambda x: x['IC50'] < 90, axis=1), PL_2.apply(lambda x: x['IC50'] < 90, axis=1)"
   ]
  },
  {
   "cell_type": "code",
   "execution_count": null,
   "metadata": {},
   "outputs": [],
   "source": [
    "PL_1.to_csv('known_PLPro1_activity.csv', index = False)\n",
    "PL_2.to_csv('known_PLPro2_activity.csv', index = False)"
   ]
  },
  {
   "cell_type": "markdown",
   "metadata": {},
   "source": [
    "## Acrylamide / Noncovalent preprocessing"
   ]
  },
  {
   "cell_type": "markdown",
   "metadata": {},
   "source": [
    "### For noncovalent data with no single inhibition data (used in publication)"
   ]
  },
  {
   "cell_type": "code",
   "execution_count": null,
   "metadata": {},
   "outputs": [],
   "source": [
    "df = pd.read_csv('old_noncovalent_activity.smi').rename(columns = {'f_avg_IC50' : 'IC50'})\n",
    "df['IC50'] = df['IC50'].fillna(np.inf)\n",
    "bad_smiles = ['JAG-UCB-a3ef7265-20']\n",
    "df = df[~df['CID'].isin(bad_smiles)]\n",
    "df.to_csv('known_noncovalent_activity.csv', index = False)"
   ]
  },
  {
   "cell_type": "markdown",
   "metadata": {},
   "source": [
    "### For covalent data with single inhibition and IC50 values"
   ]
  },
  {
   "cell_type": "markdown",
   "metadata": {},
   "source": [
    "#### First we create a flag of (-1, 0, 1 ) depending if the compound data is (useless, inactive, active)"
   ]
  },
  {
   "cell_type": "code",
   "execution_count": null,
   "metadata": {},
   "outputs": [],
   "source": [
    "def activity_class(row):\n",
    "    if (row['f_avg_IC50'] != np.inf) & (row['f_inhibition_at_50_uM'] != -np.inf):       \n",
    "        if row['f_avg_IC50'] < 50:            \n",
    "            return 1 # IC50 exists and < 50 --> active\n",
    "        else:\n",
    "            return 0 # IC50 exists but > 50 --> inactive\n",
    "    elif (row['f_avg_IC50'] == np.inf) & (row['f_inhibition_at_50_uM'] != -np.inf):\n",
    "        if row['f_inhibition_at_50_uM'] < 50:\n",
    "            return 0 # no IC50 with inhibition < 50 --> inactive\n",
    "        else:\n",
    "            return -1 # no IC50 but inihibtion > 50 --> ignore\n",
    "    else:\n",
    "        return -1 # no IC50 and no inhibition"
   ]
  },
  {
   "cell_type": "markdown",
   "metadata": {},
   "source": [
    "### Now pull in the master data (both noncovalent and acrylamide) and begin cleaning"
   ]
  },
  {
   "cell_type": "code",
   "execution_count": null,
   "metadata": {},
   "outputs": [],
   "source": [
    "master_df = pd.read_csv('known_master_activity.csv')\n",
    "master_df['f_avg_IC50'], master_df['f_inhibition_at_50_uM'] = master_df['f_avg_IC50'].fillna(np.inf), master_df['f_inhibition_at_50_uM'].fillna(-np.inf)\n",
    "master_df['activity'] = [ activity_class(row) for index, row in master_df.iterrows()]"
   ]
  },
  {
   "cell_type": "markdown",
   "metadata": {},
   "source": [
    "## Remove bad SMILES and useless data"
   ]
  },
  {
   "cell_type": "code",
   "execution_count": null,
   "metadata": {},
   "outputs": [],
   "source": [
    "bad_smiles = ['ALP-POS-c59291d4-5', 'JAG-UCB-a3ef7265-20', 'LON-WEI-babf2c61-3', 'ALP-POS-c59291d4-1',\n",
    "             'LON-WEI-ff7b210a-4', 'LON-WEI-ff7b210a-5']\n",
    "\n",
    "master_df = master_df[~master_df['canonical_CID'].isin(bad_smiles)]\n",
    "master_df = master_df[master_df['activity'] > -1]"
   ]
  },
  {
   "cell_type": "markdown",
   "metadata": {},
   "source": [
    "### Extract noncovalent and acrylamide data from master file"
   ]
  },
  {
   "cell_type": "code",
   "execution_count": null,
   "metadata": {},
   "outputs": [],
   "source": [
    "noncov = master_df[(master_df['acrylamide'] == False) & (master_df['chloroacetamide'] == False) ][['SMILES', 'canonical_CID', 'activity', 'f_avg_IC50','f_inhibition_at_50_uM']].rename(columns = {'f_avg_IC50' : 'IC50'})\n",
    "acry = master_df[master_df['acrylamide'] == True][['SMILES', 'canonical_CID', 'activity', 'f_avg_IC50','f_inhibition_at_50_uM']].rename(columns = {'f_avg_IC50' : 'IC50'})"
   ]
  },
  {
   "cell_type": "code",
   "execution_count": null,
   "metadata": {},
   "outputs": [],
   "source": [
    "acry.to_csv('known_acrylamide_activity.csv', index = False)\n",
    "noncov.to_csv('known_noncovalent_activity.csv', index = False)"
   ]
  }
 ],
 "metadata": {
  "kernelspec": {
   "display_name": "chem-dl-fastai-env",
   "language": "python",
   "name": "chem-dl-fastai-env"
  },
  "language_info": {
   "codemirror_mode": {
    "name": "ipython",
    "version": 3
   },
   "file_extension": ".py",
   "mimetype": "text/x-python",
   "name": "python",
   "nbconvert_exporter": "python",
   "pygments_lexer": "ipython3",
   "version": "3.6.10"
  }
 },
 "nbformat": 4,
 "nbformat_minor": 2
}
